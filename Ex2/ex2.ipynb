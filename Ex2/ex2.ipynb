{
  "nbformat": 4,
  "nbformat_minor": 0,
  "metadata": {
    "colab": {
      "provenance": [],
      "collapsed_sections": []
    },
    "kernelspec": {
      "name": "python3",
      "display_name": "Python 3"
    },
    "language_info": {
      "name": "python"
    }
  },
  "cells": [
    {
      "cell_type": "markdown",
      "source": [
        "# **67818 Ex2 - Daniel Busbib**"
      ],
      "metadata": {
        "id": "0W-g8qHc1r0_"
      }
    },
    {
      "cell_type": "code",
      "execution_count": 5,
      "metadata": {
        "id": "RhupUxk11qgx"
      },
      "outputs": [],
      "source": [
        "import numpy as np\n",
        "import pandas as pd\n",
        "import matplotlib.pyplot as plt\n",
        "plt.style.use('ggplot')\n",
        "import seaborn as sns\n",
        "from copy import deepcopy\n",
        "import folium, io\n",
        "from folium.plugins import HeatMap, MarkerCluster\n",
        "import plotly.graph_objects as go\n",
        "from geopy.geocoders import Nominatim\n",
        "from sklearn.linear_model import LinearRegression\n",
        "from sklearn.metrics import mean_squared_error\n",
        "from google.colab import files"
      ]
    },
    {
      "cell_type": "code",
      "source": [
        "file_name = \"ex1.csv\"\n",
        "# uploaded = files.upload()\n",
        "# data = pd.read_csv(io.BytesIO(uploaded[file_name]))\n",
        "data = pd.read_csv(file_name)"
      ],
      "metadata": {
        "colab": {
          "base_uri": "https://localhost:8080/",
          "height": 73
        },
        "id": "5LhXGPu7UJMK",
        "outputId": "1694a03a-0593-4279-e5fe-c42b1b485939"
      },
      "execution_count": 6,
      "outputs": [
        {
          "output_type": "display_data",
          "data": {
            "text/plain": [
              "<IPython.core.display.HTML object>"
            ],
            "text/html": [
              "\n",
              "     <input type=\"file\" id=\"files-cf980bc3-a596-409e-a096-df03bfba5965\" name=\"files[]\" multiple disabled\n",
              "        style=\"border:none\" />\n",
              "     <output id=\"result-cf980bc3-a596-409e-a096-df03bfba5965\">\n",
              "      Upload widget is only available when the cell has been executed in the\n",
              "      current browser session. Please rerun this cell to enable.\n",
              "      </output>\n",
              "      <script>// Copyright 2017 Google LLC\n",
              "//\n",
              "// Licensed under the Apache License, Version 2.0 (the \"License\");\n",
              "// you may not use this file except in compliance with the License.\n",
              "// You may obtain a copy of the License at\n",
              "//\n",
              "//      http://www.apache.org/licenses/LICENSE-2.0\n",
              "//\n",
              "// Unless required by applicable law or agreed to in writing, software\n",
              "// distributed under the License is distributed on an \"AS IS\" BASIS,\n",
              "// WITHOUT WARRANTIES OR CONDITIONS OF ANY KIND, either express or implied.\n",
              "// See the License for the specific language governing permissions and\n",
              "// limitations under the License.\n",
              "\n",
              "/**\n",
              " * @fileoverview Helpers for google.colab Python module.\n",
              " */\n",
              "(function(scope) {\n",
              "function span(text, styleAttributes = {}) {\n",
              "  const element = document.createElement('span');\n",
              "  element.textContent = text;\n",
              "  for (const key of Object.keys(styleAttributes)) {\n",
              "    element.style[key] = styleAttributes[key];\n",
              "  }\n",
              "  return element;\n",
              "}\n",
              "\n",
              "// Max number of bytes which will be uploaded at a time.\n",
              "const MAX_PAYLOAD_SIZE = 100 * 1024;\n",
              "\n",
              "function _uploadFiles(inputId, outputId) {\n",
              "  const steps = uploadFilesStep(inputId, outputId);\n",
              "  const outputElement = document.getElementById(outputId);\n",
              "  // Cache steps on the outputElement to make it available for the next call\n",
              "  // to uploadFilesContinue from Python.\n",
              "  outputElement.steps = steps;\n",
              "\n",
              "  return _uploadFilesContinue(outputId);\n",
              "}\n",
              "\n",
              "// This is roughly an async generator (not supported in the browser yet),\n",
              "// where there are multiple asynchronous steps and the Python side is going\n",
              "// to poll for completion of each step.\n",
              "// This uses a Promise to block the python side on completion of each step,\n",
              "// then passes the result of the previous step as the input to the next step.\n",
              "function _uploadFilesContinue(outputId) {\n",
              "  const outputElement = document.getElementById(outputId);\n",
              "  const steps = outputElement.steps;\n",
              "\n",
              "  const next = steps.next(outputElement.lastPromiseValue);\n",
              "  return Promise.resolve(next.value.promise).then((value) => {\n",
              "    // Cache the last promise value to make it available to the next\n",
              "    // step of the generator.\n",
              "    outputElement.lastPromiseValue = value;\n",
              "    return next.value.response;\n",
              "  });\n",
              "}\n",
              "\n",
              "/**\n",
              " * Generator function which is called between each async step of the upload\n",
              " * process.\n",
              " * @param {string} inputId Element ID of the input file picker element.\n",
              " * @param {string} outputId Element ID of the output display.\n",
              " * @return {!Iterable<!Object>} Iterable of next steps.\n",
              " */\n",
              "function* uploadFilesStep(inputId, outputId) {\n",
              "  const inputElement = document.getElementById(inputId);\n",
              "  inputElement.disabled = false;\n",
              "\n",
              "  const outputElement = document.getElementById(outputId);\n",
              "  outputElement.innerHTML = '';\n",
              "\n",
              "  const pickedPromise = new Promise((resolve) => {\n",
              "    inputElement.addEventListener('change', (e) => {\n",
              "      resolve(e.target.files);\n",
              "    });\n",
              "  });\n",
              "\n",
              "  const cancel = document.createElement('button');\n",
              "  inputElement.parentElement.appendChild(cancel);\n",
              "  cancel.textContent = 'Cancel upload';\n",
              "  const cancelPromise = new Promise((resolve) => {\n",
              "    cancel.onclick = () => {\n",
              "      resolve(null);\n",
              "    };\n",
              "  });\n",
              "\n",
              "  // Wait for the user to pick the files.\n",
              "  const files = yield {\n",
              "    promise: Promise.race([pickedPromise, cancelPromise]),\n",
              "    response: {\n",
              "      action: 'starting',\n",
              "    }\n",
              "  };\n",
              "\n",
              "  cancel.remove();\n",
              "\n",
              "  // Disable the input element since further picks are not allowed.\n",
              "  inputElement.disabled = true;\n",
              "\n",
              "  if (!files) {\n",
              "    return {\n",
              "      response: {\n",
              "        action: 'complete',\n",
              "      }\n",
              "    };\n",
              "  }\n",
              "\n",
              "  for (const file of files) {\n",
              "    const li = document.createElement('li');\n",
              "    li.append(span(file.name, {fontWeight: 'bold'}));\n",
              "    li.append(span(\n",
              "        `(${file.type || 'n/a'}) - ${file.size} bytes, ` +\n",
              "        `last modified: ${\n",
              "            file.lastModifiedDate ? file.lastModifiedDate.toLocaleDateString() :\n",
              "                                    'n/a'} - `));\n",
              "    const percent = span('0% done');\n",
              "    li.appendChild(percent);\n",
              "\n",
              "    outputElement.appendChild(li);\n",
              "\n",
              "    const fileDataPromise = new Promise((resolve) => {\n",
              "      const reader = new FileReader();\n",
              "      reader.onload = (e) => {\n",
              "        resolve(e.target.result);\n",
              "      };\n",
              "      reader.readAsArrayBuffer(file);\n",
              "    });\n",
              "    // Wait for the data to be ready.\n",
              "    let fileData = yield {\n",
              "      promise: fileDataPromise,\n",
              "      response: {\n",
              "        action: 'continue',\n",
              "      }\n",
              "    };\n",
              "\n",
              "    // Use a chunked sending to avoid message size limits. See b/62115660.\n",
              "    let position = 0;\n",
              "    do {\n",
              "      const length = Math.min(fileData.byteLength - position, MAX_PAYLOAD_SIZE);\n",
              "      const chunk = new Uint8Array(fileData, position, length);\n",
              "      position += length;\n",
              "\n",
              "      const base64 = btoa(String.fromCharCode.apply(null, chunk));\n",
              "      yield {\n",
              "        response: {\n",
              "          action: 'append',\n",
              "          file: file.name,\n",
              "          data: base64,\n",
              "        },\n",
              "      };\n",
              "\n",
              "      let percentDone = fileData.byteLength === 0 ?\n",
              "          100 :\n",
              "          Math.round((position / fileData.byteLength) * 100);\n",
              "      percent.textContent = `${percentDone}% done`;\n",
              "\n",
              "    } while (position < fileData.byteLength);\n",
              "  }\n",
              "\n",
              "  // All done.\n",
              "  yield {\n",
              "    response: {\n",
              "      action: 'complete',\n",
              "    }\n",
              "  };\n",
              "}\n",
              "\n",
              "scope.google = scope.google || {};\n",
              "scope.google.colab = scope.google.colab || {};\n",
              "scope.google.colab._files = {\n",
              "  _uploadFiles,\n",
              "  _uploadFilesContinue,\n",
              "};\n",
              "})(self);\n",
              "</script> "
            ]
          },
          "metadata": {}
        },
        {
          "output_type": "stream",
          "name": "stdout",
          "text": [
            "Saving ex1.csv to ex1 (1).csv\n"
          ]
        }
      ]
    },
    {
      "cell_type": "markdown",
      "source": [
        "# Q1 (a)"
      ],
      "metadata": {
        "id": "alnqcdnG2dGp"
      }
    },
    {
      "cell_type": "code",
      "source": [
        "data.head()"
      ],
      "metadata": {
        "colab": {
          "base_uri": "https://localhost:8080/",
          "height": 681
        },
        "id": "Jhw3HfAP2cjD",
        "outputId": "4975ecea-2ca1-46eb-b1ec-035c94ca4ffc"
      },
      "execution_count": 7,
      "outputs": [
        {
          "output_type": "execute_result",
          "data": {
            "text/plain": [
              "   Unnamed: 0  incident_id        date           state city_or_county  \\\n",
              "0           0       137007  2016-07-23            Utah         Draper   \n",
              "1           1        49807  2014-12-13              -1        Chicago   \n",
              "2           2         2318  2014-01-15  south carolina           Irmo   \n",
              "3           3       237635  2018-03-18              -1        Detroit   \n",
              "4           4       238068  2018-03-21        Michigan  Benton Harbor   \n",
              "\n",
              "                             address  n_killed  n_injured  \\\n",
              "0                        12300 South         0          1   \n",
              "1  10400 block of South State Street        -1          0   \n",
              "2                1 Forest Walk Court         4          0   \n",
              "3     5600 BLOCK OF JOHN C LODGE FWY         0          0   \n",
              "4           1200 block of Parkway Dr         0          0   \n",
              "\n",
              "   congressional_district  gun_stolen  ...  \\\n",
              "0                     4.0         NaN  ...   \n",
              "1                     2.0  0::Unknown  ...   \n",
              "2                     2.0         NaN  ...   \n",
              "3                     NaN  0::Unknown  ...   \n",
              "4                     6.0   0::Stolen  ...   \n",
              "\n",
              "                                               notes  \\\n",
              "0  Man wanted for prior agg asault shot self in h...   \n",
              "1                                Man shot, drive-by;   \n",
              "2                                                NaN   \n",
              "3                                                NaN   \n",
              "4                         raid, drug, stolen handgun   \n",
              "\n",
              "              participant_age  \\\n",
              "0                       0::30   \n",
              "1                       0::26   \n",
              "2    0::28||1::3||2::1||3::38   \n",
              "3                         NaN   \n",
              "4  0::34||1::39||2::31||3::47   \n",
              "\n",
              "                               participant_age_group  \\\n",
              "0                                       0::Adult 18+   \n",
              "1                                       0::Adult 18+   \n",
              "2  0::Adult 18+||1::Child 0-11||2::Child 0-11||3:...   \n",
              "3                                                NaN   \n",
              "4  0::Adult 18+||1::Adult 18+||2::Adult 18+||3::A...   \n",
              "\n",
              "                       participant_gender  \\\n",
              "0                                 0::Male   \n",
              "1                                 0::Male   \n",
              "2  0::Female||1::Male||2::Female||3::Male   \n",
              "3                                     NaN   \n",
              "4      0::Male||1::Male||2::Male||3::Male   \n",
              "\n",
              "                                    participant_name  \\\n",
              "0                                    0::Eddie Heuser   \n",
              "1                               0::Tyrece L. Stornes   \n",
              "2  0::Kia Miller||1::Kyler Devane Miller||2::Syra...   \n",
              "3                                                NaN   \n",
              "4  0::Sylvester Davis III||1::Leonard Robinson||2...   \n",
              "\n",
              "   participant_relationship  \\\n",
              "0                       NaN   \n",
              "1                       NaN   \n",
              "2                 3::Family   \n",
              "3                       NaN   \n",
              "4                       NaN   \n",
              "\n",
              "                                  participant_status  \\\n",
              "0                                         0::Injured   \n",
              "1                                          0::Killed   \n",
              "2         0::Killed||1::Killed||2::Killed||3::Killed   \n",
              "3                                                NaN   \n",
              "4  0::Unharmed, Arrested||1::Unharmed, Arrested||...   \n",
              "\n",
              "                                    participant_type state_house_district  \\\n",
              "0                                 0::Subject-Suspect                 51.0   \n",
              "1                                          0::Victim                 28.0   \n",
              "2  0::Victim||1::Victim||2::Victim||3::Subject-Su...                 73.0   \n",
              "3                                                NaN                  NaN   \n",
              "4  0::Subject-Suspect||1::Subject-Suspect||2::Sub...                 79.0   \n",
              "\n",
              "  state_senate_district  \n",
              "0                  11.0  \n",
              "1                  14.0  \n",
              "2                  19.0  \n",
              "3                   NaN  \n",
              "4                  21.0  \n",
              "\n",
              "[5 rows x 26 columns]"
            ],
            "text/html": [
              "\n",
              "  <div id=\"df-510bb7e9-e63e-4660-b17f-0bac37fa0734\">\n",
              "    <div class=\"colab-df-container\">\n",
              "      <div>\n",
              "<style scoped>\n",
              "    .dataframe tbody tr th:only-of-type {\n",
              "        vertical-align: middle;\n",
              "    }\n",
              "\n",
              "    .dataframe tbody tr th {\n",
              "        vertical-align: top;\n",
              "    }\n",
              "\n",
              "    .dataframe thead th {\n",
              "        text-align: right;\n",
              "    }\n",
              "</style>\n",
              "<table border=\"1\" class=\"dataframe\">\n",
              "  <thead>\n",
              "    <tr style=\"text-align: right;\">\n",
              "      <th></th>\n",
              "      <th>Unnamed: 0</th>\n",
              "      <th>incident_id</th>\n",
              "      <th>date</th>\n",
              "      <th>state</th>\n",
              "      <th>city_or_county</th>\n",
              "      <th>address</th>\n",
              "      <th>n_killed</th>\n",
              "      <th>n_injured</th>\n",
              "      <th>congressional_district</th>\n",
              "      <th>gun_stolen</th>\n",
              "      <th>...</th>\n",
              "      <th>notes</th>\n",
              "      <th>participant_age</th>\n",
              "      <th>participant_age_group</th>\n",
              "      <th>participant_gender</th>\n",
              "      <th>participant_name</th>\n",
              "      <th>participant_relationship</th>\n",
              "      <th>participant_status</th>\n",
              "      <th>participant_type</th>\n",
              "      <th>state_house_district</th>\n",
              "      <th>state_senate_district</th>\n",
              "    </tr>\n",
              "  </thead>\n",
              "  <tbody>\n",
              "    <tr>\n",
              "      <th>0</th>\n",
              "      <td>0</td>\n",
              "      <td>137007</td>\n",
              "      <td>2016-07-23</td>\n",
              "      <td>Utah</td>\n",
              "      <td>Draper</td>\n",
              "      <td>12300 South</td>\n",
              "      <td>0</td>\n",
              "      <td>1</td>\n",
              "      <td>4.0</td>\n",
              "      <td>NaN</td>\n",
              "      <td>...</td>\n",
              "      <td>Man wanted for prior agg asault shot self in h...</td>\n",
              "      <td>0::30</td>\n",
              "      <td>0::Adult 18+</td>\n",
              "      <td>0::Male</td>\n",
              "      <td>0::Eddie Heuser</td>\n",
              "      <td>NaN</td>\n",
              "      <td>0::Injured</td>\n",
              "      <td>0::Subject-Suspect</td>\n",
              "      <td>51.0</td>\n",
              "      <td>11.0</td>\n",
              "    </tr>\n",
              "    <tr>\n",
              "      <th>1</th>\n",
              "      <td>1</td>\n",
              "      <td>49807</td>\n",
              "      <td>2014-12-13</td>\n",
              "      <td>-1</td>\n",
              "      <td>Chicago</td>\n",
              "      <td>10400 block of South State Street</td>\n",
              "      <td>-1</td>\n",
              "      <td>0</td>\n",
              "      <td>2.0</td>\n",
              "      <td>0::Unknown</td>\n",
              "      <td>...</td>\n",
              "      <td>Man shot, drive-by;</td>\n",
              "      <td>0::26</td>\n",
              "      <td>0::Adult 18+</td>\n",
              "      <td>0::Male</td>\n",
              "      <td>0::Tyrece L. Stornes</td>\n",
              "      <td>NaN</td>\n",
              "      <td>0::Killed</td>\n",
              "      <td>0::Victim</td>\n",
              "      <td>28.0</td>\n",
              "      <td>14.0</td>\n",
              "    </tr>\n",
              "    <tr>\n",
              "      <th>2</th>\n",
              "      <td>2</td>\n",
              "      <td>2318</td>\n",
              "      <td>2014-01-15</td>\n",
              "      <td>south carolina</td>\n",
              "      <td>Irmo</td>\n",
              "      <td>1 Forest Walk Court</td>\n",
              "      <td>4</td>\n",
              "      <td>0</td>\n",
              "      <td>2.0</td>\n",
              "      <td>NaN</td>\n",
              "      <td>...</td>\n",
              "      <td>NaN</td>\n",
              "      <td>0::28||1::3||2::1||3::38</td>\n",
              "      <td>0::Adult 18+||1::Child 0-11||2::Child 0-11||3:...</td>\n",
              "      <td>0::Female||1::Male||2::Female||3::Male</td>\n",
              "      <td>0::Kia Miller||1::Kyler Devane Miller||2::Syra...</td>\n",
              "      <td>3::Family</td>\n",
              "      <td>0::Killed||1::Killed||2::Killed||3::Killed</td>\n",
              "      <td>0::Victim||1::Victim||2::Victim||3::Subject-Su...</td>\n",
              "      <td>73.0</td>\n",
              "      <td>19.0</td>\n",
              "    </tr>\n",
              "    <tr>\n",
              "      <th>3</th>\n",
              "      <td>3</td>\n",
              "      <td>237635</td>\n",
              "      <td>2018-03-18</td>\n",
              "      <td>-1</td>\n",
              "      <td>Detroit</td>\n",
              "      <td>5600 BLOCK OF JOHN C LODGE FWY</td>\n",
              "      <td>0</td>\n",
              "      <td>0</td>\n",
              "      <td>NaN</td>\n",
              "      <td>0::Unknown</td>\n",
              "      <td>...</td>\n",
              "      <td>NaN</td>\n",
              "      <td>NaN</td>\n",
              "      <td>NaN</td>\n",
              "      <td>NaN</td>\n",
              "      <td>NaN</td>\n",
              "      <td>NaN</td>\n",
              "      <td>NaN</td>\n",
              "      <td>NaN</td>\n",
              "      <td>NaN</td>\n",
              "      <td>NaN</td>\n",
              "    </tr>\n",
              "    <tr>\n",
              "      <th>4</th>\n",
              "      <td>4</td>\n",
              "      <td>238068</td>\n",
              "      <td>2018-03-21</td>\n",
              "      <td>Michigan</td>\n",
              "      <td>Benton Harbor</td>\n",
              "      <td>1200 block of Parkway Dr</td>\n",
              "      <td>0</td>\n",
              "      <td>0</td>\n",
              "      <td>6.0</td>\n",
              "      <td>0::Stolen</td>\n",
              "      <td>...</td>\n",
              "      <td>raid, drug, stolen handgun</td>\n",
              "      <td>0::34||1::39||2::31||3::47</td>\n",
              "      <td>0::Adult 18+||1::Adult 18+||2::Adult 18+||3::A...</td>\n",
              "      <td>0::Male||1::Male||2::Male||3::Male</td>\n",
              "      <td>0::Sylvester Davis III||1::Leonard Robinson||2...</td>\n",
              "      <td>NaN</td>\n",
              "      <td>0::Unharmed, Arrested||1::Unharmed, Arrested||...</td>\n",
              "      <td>0::Subject-Suspect||1::Subject-Suspect||2::Sub...</td>\n",
              "      <td>79.0</td>\n",
              "      <td>21.0</td>\n",
              "    </tr>\n",
              "  </tbody>\n",
              "</table>\n",
              "<p>5 rows × 26 columns</p>\n",
              "</div>\n",
              "      <button class=\"colab-df-convert\" onclick=\"convertToInteractive('df-510bb7e9-e63e-4660-b17f-0bac37fa0734')\"\n",
              "              title=\"Convert this dataframe to an interactive table.\"\n",
              "              style=\"display:none;\">\n",
              "        \n",
              "  <svg xmlns=\"http://www.w3.org/2000/svg\" height=\"24px\"viewBox=\"0 0 24 24\"\n",
              "       width=\"24px\">\n",
              "    <path d=\"M0 0h24v24H0V0z\" fill=\"none\"/>\n",
              "    <path d=\"M18.56 5.44l.94 2.06.94-2.06 2.06-.94-2.06-.94-.94-2.06-.94 2.06-2.06.94zm-11 1L8.5 8.5l.94-2.06 2.06-.94-2.06-.94L8.5 2.5l-.94 2.06-2.06.94zm10 10l.94 2.06.94-2.06 2.06-.94-2.06-.94-.94-2.06-.94 2.06-2.06.94z\"/><path d=\"M17.41 7.96l-1.37-1.37c-.4-.4-.92-.59-1.43-.59-.52 0-1.04.2-1.43.59L10.3 9.45l-7.72 7.72c-.78.78-.78 2.05 0 2.83L4 21.41c.39.39.9.59 1.41.59.51 0 1.02-.2 1.41-.59l7.78-7.78 2.81-2.81c.8-.78.8-2.07 0-2.86zM5.41 20L4 18.59l7.72-7.72 1.47 1.35L5.41 20z\"/>\n",
              "  </svg>\n",
              "      </button>\n",
              "      \n",
              "  <style>\n",
              "    .colab-df-container {\n",
              "      display:flex;\n",
              "      flex-wrap:wrap;\n",
              "      gap: 12px;\n",
              "    }\n",
              "\n",
              "    .colab-df-convert {\n",
              "      background-color: #E8F0FE;\n",
              "      border: none;\n",
              "      border-radius: 50%;\n",
              "      cursor: pointer;\n",
              "      display: none;\n",
              "      fill: #1967D2;\n",
              "      height: 32px;\n",
              "      padding: 0 0 0 0;\n",
              "      width: 32px;\n",
              "    }\n",
              "\n",
              "    .colab-df-convert:hover {\n",
              "      background-color: #E2EBFA;\n",
              "      box-shadow: 0px 1px 2px rgba(60, 64, 67, 0.3), 0px 1px 3px 1px rgba(60, 64, 67, 0.15);\n",
              "      fill: #174EA6;\n",
              "    }\n",
              "\n",
              "    [theme=dark] .colab-df-convert {\n",
              "      background-color: #3B4455;\n",
              "      fill: #D2E3FC;\n",
              "    }\n",
              "\n",
              "    [theme=dark] .colab-df-convert:hover {\n",
              "      background-color: #434B5C;\n",
              "      box-shadow: 0px 1px 3px 1px rgba(0, 0, 0, 0.15);\n",
              "      filter: drop-shadow(0px 1px 2px rgba(0, 0, 0, 0.3));\n",
              "      fill: #FFFFFF;\n",
              "    }\n",
              "  </style>\n",
              "\n",
              "      <script>\n",
              "        const buttonEl =\n",
              "          document.querySelector('#df-510bb7e9-e63e-4660-b17f-0bac37fa0734 button.colab-df-convert');\n",
              "        buttonEl.style.display =\n",
              "          google.colab.kernel.accessAllowed ? 'block' : 'none';\n",
              "\n",
              "        async function convertToInteractive(key) {\n",
              "          const element = document.querySelector('#df-510bb7e9-e63e-4660-b17f-0bac37fa0734');\n",
              "          const dataTable =\n",
              "            await google.colab.kernel.invokeFunction('convertToInteractive',\n",
              "                                                     [key], {});\n",
              "          if (!dataTable) return;\n",
              "\n",
              "          const docLinkHtml = 'Like what you see? Visit the ' +\n",
              "            '<a target=\"_blank\" href=https://colab.research.google.com/notebooks/data_table.ipynb>data table notebook</a>'\n",
              "            + ' to learn more about interactive tables.';\n",
              "          element.innerHTML = '';\n",
              "          dataTable['output_type'] = 'display_data';\n",
              "          await google.colab.output.renderOutput(dataTable, element);\n",
              "          const docLink = document.createElement('div');\n",
              "          docLink.innerHTML = docLinkHtml;\n",
              "          element.appendChild(docLink);\n",
              "        }\n",
              "      </script>\n",
              "    </div>\n",
              "  </div>\n",
              "  "
            ]
          },
          "metadata": {},
          "execution_count": 7
        }
      ]
    },
    {
      "cell_type": "code",
      "source": [
        "data.nunique()"
      ],
      "metadata": {
        "colab": {
          "base_uri": "https://localhost:8080/"
        },
        "id": "XcCEqQVh3S__",
        "outputId": "8577b985-be0b-4ed9-972c-0121b21d32e9"
      },
      "execution_count": 8,
      "outputs": [
        {
          "output_type": "execute_result",
          "data": {
            "text/plain": [
              "Unnamed: 0                  23967\n",
              "incident_id                 23967\n",
              "date                         1571\n",
              "state                         103\n",
              "city_or_county               4175\n",
              "address                     21625\n",
              "n_killed                       11\n",
              "n_injured                      21\n",
              "congressional_district         54\n",
              "gun_stolen                    116\n",
              "gun_type                      491\n",
              "incident_characteristics     3705\n",
              "latitude                    16038\n",
              "location_description         3455\n",
              "longitude                   20785\n",
              "n_guns_involved                48\n",
              "notes                       14739\n",
              "participant_age              3452\n",
              "participant_age_group         248\n",
              "participant_gender            251\n",
              "participant_name            11560\n",
              "participant_relationship      106\n",
              "participant_status            590\n",
              "participant_type              115\n",
              "state_house_district          213\n",
              "state_senate_district          67\n",
              "dtype: int64"
            ]
          },
          "metadata": {},
          "execution_count": 8
        }
      ]
    },
    {
      "cell_type": "markdown",
      "source": [
        "I choose the feature `congressional_district` as categorial feature and made the same process shown in class, based on the geographic coordinate system features.\n"
      ],
      "metadata": {
        "id": "qoQhlqlApJPc"
      }
    },
    {
      "cell_type": "code",
      "source": [
        "# as shown in class - train random forest\n",
        "from sklearn.model_selection import train_test_split\n",
        "from sklearn.ensemble import RandomForestRegressor\n",
        "\n",
        "CT = \"congressional_district\"\n",
        "features = [\"state\", \"city_or_county\", \"state_house_district\", \"state_senate_district\"]\n",
        "X = data[[\"state\", \"city_or_county\", \"congressional_district\", \"state_house_district\", \"state_senate_district\"]]\n",
        "X = pd.get_dummies(X, columns=features, drop_first=True)\n",
        "X = X[~X[CT].isnull()]\n",
        "y = X[CT]\n",
        "X = X.drop(columns=[CT])"
      ],
      "metadata": {
        "id": "x8XQtNHEqil-"
      },
      "execution_count": 9,
      "outputs": []
    },
    {
      "cell_type": "code",
      "source": [
        "X_train, X_test, y_train, y_test = train_test_split(X, y, test_size=0.25)\n",
        "rf = RandomForestRegressor(100,max_depth=15)\n",
        "rf.fit(X_train,y_train)"
      ],
      "metadata": {
        "colab": {
          "base_uri": "https://localhost:8080/"
        },
        "id": "pv3i9OigrlAm",
        "outputId": "09c787dc-a3cc-4e82-d0ca-8a887cff6851"
      },
      "execution_count": 10,
      "outputs": [
        {
          "output_type": "execute_result",
          "data": {
            "text/plain": [
              "RandomForestRegressor(max_depth=15)"
            ]
          },
          "metadata": {},
          "execution_count": 10
        }
      ]
    },
    {
      "cell_type": "code",
      "source": [
        "rf.score(X_test,y_test)"
      ],
      "metadata": {
        "colab": {
          "base_uri": "https://localhost:8080/"
        },
        "id": "7W6db_VBtwWH",
        "outputId": "39fa5903-a641-439e-95ac-1430cec5a5f5"
      },
      "execution_count": 11,
      "outputs": [
        {
          "output_type": "execute_result",
          "data": {
            "text/plain": [
              "0.5477977881138019"
            ]
          },
          "metadata": {},
          "execution_count": 11
        }
      ]
    },
    {
      "cell_type": "code",
      "source": [
        "new_data = deepcopy(data)\n",
        "X = pd.get_dummies(new_data[features], columns=features, drop_first=True)\n",
        "null_indices = new_data[\"congressional_district\"].isna()\n",
        "prediction = rf.predict(X[null_indices])\n",
        "new_data.loc[null_indices, CT] = prediction"
      ],
      "metadata": {
        "id": "QUhWUAR-t1oL"
      },
      "execution_count": 12,
      "outputs": []
    },
    {
      "cell_type": "code",
      "source": [
        "new_data[CT].isna().sum()"
      ],
      "metadata": {
        "colab": {
          "base_uri": "https://localhost:8080/"
        },
        "id": "DjTNouDFwTf2",
        "outputId": "d81cab23-650a-4af3-ad2d-62280532f90b"
      },
      "execution_count": 13,
      "outputs": [
        {
          "output_type": "execute_result",
          "data": {
            "text/plain": [
              "0"
            ]
          },
          "metadata": {},
          "execution_count": 13
        }
      ]
    },
    {
      "cell_type": "markdown",
      "source": [
        "For the continuous feature i choose `longitude` feature."
      ],
      "metadata": {
        "id": "1RQ0kc-UwrFd"
      }
    },
    {
      "cell_type": "code",
      "source": [
        "new_data[\"longitude\"].isna().sum()"
      ],
      "metadata": {
        "colab": {
          "base_uri": "https://localhost:8080/"
        },
        "id": "UkQQsBTPxqWZ",
        "outputId": "2b711d97-9dfd-41af-92c2-d2b044000923"
      },
      "execution_count": null,
      "outputs": [
        {
          "output_type": "execute_result",
          "data": {
            "text/plain": [
              "775"
            ]
          },
          "metadata": {},
          "execution_count": 28
        }
      ]
    },
    {
      "cell_type": "markdown",
      "source": [
        "I choose for the imputation on `longitude` to take the average longitude of the data samples but with the same `state` and `city_or_country`. The reason is because longitude is a very specific geographical feature that we have in the data(like city, latitude..)."
      ],
      "metadata": {
        "id": "hOS60VFoW1v7"
      }
    },
    {
      "cell_type": "code",
      "source": [
        "LT = \"longitude\"\n",
        "STATE = \"state\"\n",
        "CC = \"city_or_county\"\n",
        "mapping_table = new_data[~new_data[LT].isna()].groupby([STATE, CC]).mean()[LT]\n",
        "minor_mapping_table = new_data[~new_data[LT].isna()].groupby([STATE]).mean()[LT]\n",
        "missing_indices = new_data[new_data[LT].isna()][LT].index"
      ],
      "metadata": {
        "id": "_c9yPeq0w7ST"
      },
      "execution_count": 14,
      "outputs": []
    },
    {
      "cell_type": "code",
      "source": [
        "def mapF(i):\n",
        "  state = new_data.loc[i][STATE]\n",
        "  city = new_data.loc[i][\"city_or_county\"]\n",
        "  return mapping_table[state][city] if city in mapping_table[state] else minor_mapping_table[state]"
      ],
      "metadata": {
        "id": "6rQ7GJH6xlO9"
      },
      "execution_count": 15,
      "outputs": []
    },
    {
      "cell_type": "code",
      "source": [
        "maplg = pd.Series(map(mapF, missing_indices),\n",
        "                    index=missing_indices)\n",
        "new_data.loc[new_data[LT].isna(), LT] = maplg\n",
        "new_data[LT].isna().sum()"
      ],
      "metadata": {
        "colab": {
          "base_uri": "https://localhost:8080/"
        },
        "id": "p4p_EvDkyA39",
        "outputId": "7fafbf87-5d10-44e5-ad30-4a2ec7cdd10a"
      },
      "execution_count": 16,
      "outputs": [
        {
          "output_type": "execute_result",
          "data": {
            "text/plain": [
              "0"
            ]
          },
          "metadata": {},
          "execution_count": 16
        }
      ]
    },
    {
      "cell_type": "markdown",
      "source": [
        "(b)"
      ],
      "metadata": {
        "id": "-BW0KShNzzAO"
      }
    },
    {
      "cell_type": "markdown",
      "source": [
        "I choose to add `isWeekend` feature as a binnig of the `date` column.<br>\n",
        "Because I think the date is not very beneficial to the model, and maybe in the weekend's days there are more crime.<br>\n",
        "Other features that are bining of the `date` are year, month, day, etc."
      ],
      "metadata": {
        "id": "ohEz1VQ_z1eM"
      }
    },
    {
      "cell_type": "code",
      "source": [
        "data_b = deepcopy(new_data)\n",
        "data_b[\"isWeekend\"] = pd.to_datetime(new_data['date']).apply(lambda date: 1 if (date.weekday() + 1) % 7 > 4 else 0 )"
      ],
      "metadata": {
        "id": "oT9QpsjAz0ov"
      },
      "execution_count": 19,
      "outputs": []
    },
    {
      "cell_type": "code",
      "source": [
        "data_b.head()"
      ],
      "metadata": {
        "colab": {
          "base_uri": "https://localhost:8080/",
          "height": 594
        },
        "id": "WAqzRNXDk1bi",
        "outputId": "0ae12ffc-386b-4cf7-9178-4e984271ab8a"
      },
      "execution_count": 20,
      "outputs": [
        {
          "output_type": "execute_result",
          "data": {
            "text/plain": [
              "   Unnamed: 0  incident_id        date           state city_or_county  \\\n",
              "0           0       137007  2016-07-23            Utah         Draper   \n",
              "1           1        49807  2014-12-13              -1        Chicago   \n",
              "2           2         2318  2014-01-15  south carolina           Irmo   \n",
              "3           3       237635  2018-03-18              -1        Detroit   \n",
              "4           4       238068  2018-03-21        Michigan  Benton Harbor   \n",
              "\n",
              "                             address  n_killed  n_injured  \\\n",
              "0                        12300 South         0          1   \n",
              "1  10400 block of South State Street        -1          0   \n",
              "2                1 Forest Walk Court         4          0   \n",
              "3     5600 BLOCK OF JOHN C LODGE FWY         0          0   \n",
              "4           1200 block of Parkway Dr         0          0   \n",
              "\n",
              "   congressional_district  gun_stolen  ...             participant_age  \\\n",
              "0                 4.00000         NaN  ...                       0::30   \n",
              "1                 2.00000  0::Unknown  ...                       0::26   \n",
              "2                 2.00000         NaN  ...    0::28||1::3||2::1||3::38   \n",
              "3                 8.27762  0::Unknown  ...                         NaN   \n",
              "4                 6.00000   0::Stolen  ...  0::34||1::39||2::31||3::47   \n",
              "\n",
              "                               participant_age_group  \\\n",
              "0                                       0::Adult 18+   \n",
              "1                                       0::Adult 18+   \n",
              "2  0::Adult 18+||1::Child 0-11||2::Child 0-11||3:...   \n",
              "3                                                NaN   \n",
              "4  0::Adult 18+||1::Adult 18+||2::Adult 18+||3::A...   \n",
              "\n",
              "                       participant_gender  \\\n",
              "0                                 0::Male   \n",
              "1                                 0::Male   \n",
              "2  0::Female||1::Male||2::Female||3::Male   \n",
              "3                                     NaN   \n",
              "4      0::Male||1::Male||2::Male||3::Male   \n",
              "\n",
              "                                    participant_name  \\\n",
              "0                                    0::Eddie Heuser   \n",
              "1                               0::Tyrece L. Stornes   \n",
              "2  0::Kia Miller||1::Kyler Devane Miller||2::Syra...   \n",
              "3                                                NaN   \n",
              "4  0::Sylvester Davis III||1::Leonard Robinson||2...   \n",
              "\n",
              "   participant_relationship  \\\n",
              "0                       NaN   \n",
              "1                       NaN   \n",
              "2                 3::Family   \n",
              "3                       NaN   \n",
              "4                       NaN   \n",
              "\n",
              "                                  participant_status  \\\n",
              "0                                         0::Injured   \n",
              "1                                          0::Killed   \n",
              "2         0::Killed||1::Killed||2::Killed||3::Killed   \n",
              "3                                                NaN   \n",
              "4  0::Unharmed, Arrested||1::Unharmed, Arrested||...   \n",
              "\n",
              "                                    participant_type state_house_district  \\\n",
              "0                                 0::Subject-Suspect                 51.0   \n",
              "1                                          0::Victim                 28.0   \n",
              "2  0::Victim||1::Victim||2::Victim||3::Subject-Su...                 73.0   \n",
              "3                                                NaN                  NaN   \n",
              "4  0::Subject-Suspect||1::Subject-Suspect||2::Sub...                 79.0   \n",
              "\n",
              "  state_senate_district isWeekend  \n",
              "0                  11.0         1  \n",
              "1                  14.0         1  \n",
              "2                  19.0         0  \n",
              "3                   NaN         0  \n",
              "4                  21.0         0  \n",
              "\n",
              "[5 rows x 27 columns]"
            ],
            "text/html": [
              "\n",
              "  <div id=\"df-380ec4dc-fb62-46b2-b540-cccac7ec926b\">\n",
              "    <div class=\"colab-df-container\">\n",
              "      <div>\n",
              "<style scoped>\n",
              "    .dataframe tbody tr th:only-of-type {\n",
              "        vertical-align: middle;\n",
              "    }\n",
              "\n",
              "    .dataframe tbody tr th {\n",
              "        vertical-align: top;\n",
              "    }\n",
              "\n",
              "    .dataframe thead th {\n",
              "        text-align: right;\n",
              "    }\n",
              "</style>\n",
              "<table border=\"1\" class=\"dataframe\">\n",
              "  <thead>\n",
              "    <tr style=\"text-align: right;\">\n",
              "      <th></th>\n",
              "      <th>Unnamed: 0</th>\n",
              "      <th>incident_id</th>\n",
              "      <th>date</th>\n",
              "      <th>state</th>\n",
              "      <th>city_or_county</th>\n",
              "      <th>address</th>\n",
              "      <th>n_killed</th>\n",
              "      <th>n_injured</th>\n",
              "      <th>congressional_district</th>\n",
              "      <th>gun_stolen</th>\n",
              "      <th>...</th>\n",
              "      <th>participant_age</th>\n",
              "      <th>participant_age_group</th>\n",
              "      <th>participant_gender</th>\n",
              "      <th>participant_name</th>\n",
              "      <th>participant_relationship</th>\n",
              "      <th>participant_status</th>\n",
              "      <th>participant_type</th>\n",
              "      <th>state_house_district</th>\n",
              "      <th>state_senate_district</th>\n",
              "      <th>isWeekend</th>\n",
              "    </tr>\n",
              "  </thead>\n",
              "  <tbody>\n",
              "    <tr>\n",
              "      <th>0</th>\n",
              "      <td>0</td>\n",
              "      <td>137007</td>\n",
              "      <td>2016-07-23</td>\n",
              "      <td>Utah</td>\n",
              "      <td>Draper</td>\n",
              "      <td>12300 South</td>\n",
              "      <td>0</td>\n",
              "      <td>1</td>\n",
              "      <td>4.00000</td>\n",
              "      <td>NaN</td>\n",
              "      <td>...</td>\n",
              "      <td>0::30</td>\n",
              "      <td>0::Adult 18+</td>\n",
              "      <td>0::Male</td>\n",
              "      <td>0::Eddie Heuser</td>\n",
              "      <td>NaN</td>\n",
              "      <td>0::Injured</td>\n",
              "      <td>0::Subject-Suspect</td>\n",
              "      <td>51.0</td>\n",
              "      <td>11.0</td>\n",
              "      <td>1</td>\n",
              "    </tr>\n",
              "    <tr>\n",
              "      <th>1</th>\n",
              "      <td>1</td>\n",
              "      <td>49807</td>\n",
              "      <td>2014-12-13</td>\n",
              "      <td>-1</td>\n",
              "      <td>Chicago</td>\n",
              "      <td>10400 block of South State Street</td>\n",
              "      <td>-1</td>\n",
              "      <td>0</td>\n",
              "      <td>2.00000</td>\n",
              "      <td>0::Unknown</td>\n",
              "      <td>...</td>\n",
              "      <td>0::26</td>\n",
              "      <td>0::Adult 18+</td>\n",
              "      <td>0::Male</td>\n",
              "      <td>0::Tyrece L. Stornes</td>\n",
              "      <td>NaN</td>\n",
              "      <td>0::Killed</td>\n",
              "      <td>0::Victim</td>\n",
              "      <td>28.0</td>\n",
              "      <td>14.0</td>\n",
              "      <td>1</td>\n",
              "    </tr>\n",
              "    <tr>\n",
              "      <th>2</th>\n",
              "      <td>2</td>\n",
              "      <td>2318</td>\n",
              "      <td>2014-01-15</td>\n",
              "      <td>south carolina</td>\n",
              "      <td>Irmo</td>\n",
              "      <td>1 Forest Walk Court</td>\n",
              "      <td>4</td>\n",
              "      <td>0</td>\n",
              "      <td>2.00000</td>\n",
              "      <td>NaN</td>\n",
              "      <td>...</td>\n",
              "      <td>0::28||1::3||2::1||3::38</td>\n",
              "      <td>0::Adult 18+||1::Child 0-11||2::Child 0-11||3:...</td>\n",
              "      <td>0::Female||1::Male||2::Female||3::Male</td>\n",
              "      <td>0::Kia Miller||1::Kyler Devane Miller||2::Syra...</td>\n",
              "      <td>3::Family</td>\n",
              "      <td>0::Killed||1::Killed||2::Killed||3::Killed</td>\n",
              "      <td>0::Victim||1::Victim||2::Victim||3::Subject-Su...</td>\n",
              "      <td>73.0</td>\n",
              "      <td>19.0</td>\n",
              "      <td>0</td>\n",
              "    </tr>\n",
              "    <tr>\n",
              "      <th>3</th>\n",
              "      <td>3</td>\n",
              "      <td>237635</td>\n",
              "      <td>2018-03-18</td>\n",
              "      <td>-1</td>\n",
              "      <td>Detroit</td>\n",
              "      <td>5600 BLOCK OF JOHN C LODGE FWY</td>\n",
              "      <td>0</td>\n",
              "      <td>0</td>\n",
              "      <td>8.27762</td>\n",
              "      <td>0::Unknown</td>\n",
              "      <td>...</td>\n",
              "      <td>NaN</td>\n",
              "      <td>NaN</td>\n",
              "      <td>NaN</td>\n",
              "      <td>NaN</td>\n",
              "      <td>NaN</td>\n",
              "      <td>NaN</td>\n",
              "      <td>NaN</td>\n",
              "      <td>NaN</td>\n",
              "      <td>NaN</td>\n",
              "      <td>0</td>\n",
              "    </tr>\n",
              "    <tr>\n",
              "      <th>4</th>\n",
              "      <td>4</td>\n",
              "      <td>238068</td>\n",
              "      <td>2018-03-21</td>\n",
              "      <td>Michigan</td>\n",
              "      <td>Benton Harbor</td>\n",
              "      <td>1200 block of Parkway Dr</td>\n",
              "      <td>0</td>\n",
              "      <td>0</td>\n",
              "      <td>6.00000</td>\n",
              "      <td>0::Stolen</td>\n",
              "      <td>...</td>\n",
              "      <td>0::34||1::39||2::31||3::47</td>\n",
              "      <td>0::Adult 18+||1::Adult 18+||2::Adult 18+||3::A...</td>\n",
              "      <td>0::Male||1::Male||2::Male||3::Male</td>\n",
              "      <td>0::Sylvester Davis III||1::Leonard Robinson||2...</td>\n",
              "      <td>NaN</td>\n",
              "      <td>0::Unharmed, Arrested||1::Unharmed, Arrested||...</td>\n",
              "      <td>0::Subject-Suspect||1::Subject-Suspect||2::Sub...</td>\n",
              "      <td>79.0</td>\n",
              "      <td>21.0</td>\n",
              "      <td>0</td>\n",
              "    </tr>\n",
              "  </tbody>\n",
              "</table>\n",
              "<p>5 rows × 27 columns</p>\n",
              "</div>\n",
              "      <button class=\"colab-df-convert\" onclick=\"convertToInteractive('df-380ec4dc-fb62-46b2-b540-cccac7ec926b')\"\n",
              "              title=\"Convert this dataframe to an interactive table.\"\n",
              "              style=\"display:none;\">\n",
              "        \n",
              "  <svg xmlns=\"http://www.w3.org/2000/svg\" height=\"24px\"viewBox=\"0 0 24 24\"\n",
              "       width=\"24px\">\n",
              "    <path d=\"M0 0h24v24H0V0z\" fill=\"none\"/>\n",
              "    <path d=\"M18.56 5.44l.94 2.06.94-2.06 2.06-.94-2.06-.94-.94-2.06-.94 2.06-2.06.94zm-11 1L8.5 8.5l.94-2.06 2.06-.94-2.06-.94L8.5 2.5l-.94 2.06-2.06.94zm10 10l.94 2.06.94-2.06 2.06-.94-2.06-.94-.94-2.06-.94 2.06-2.06.94z\"/><path d=\"M17.41 7.96l-1.37-1.37c-.4-.4-.92-.59-1.43-.59-.52 0-1.04.2-1.43.59L10.3 9.45l-7.72 7.72c-.78.78-.78 2.05 0 2.83L4 21.41c.39.39.9.59 1.41.59.51 0 1.02-.2 1.41-.59l7.78-7.78 2.81-2.81c.8-.78.8-2.07 0-2.86zM5.41 20L4 18.59l7.72-7.72 1.47 1.35L5.41 20z\"/>\n",
              "  </svg>\n",
              "      </button>\n",
              "      \n",
              "  <style>\n",
              "    .colab-df-container {\n",
              "      display:flex;\n",
              "      flex-wrap:wrap;\n",
              "      gap: 12px;\n",
              "    }\n",
              "\n",
              "    .colab-df-convert {\n",
              "      background-color: #E8F0FE;\n",
              "      border: none;\n",
              "      border-radius: 50%;\n",
              "      cursor: pointer;\n",
              "      display: none;\n",
              "      fill: #1967D2;\n",
              "      height: 32px;\n",
              "      padding: 0 0 0 0;\n",
              "      width: 32px;\n",
              "    }\n",
              "\n",
              "    .colab-df-convert:hover {\n",
              "      background-color: #E2EBFA;\n",
              "      box-shadow: 0px 1px 2px rgba(60, 64, 67, 0.3), 0px 1px 3px 1px rgba(60, 64, 67, 0.15);\n",
              "      fill: #174EA6;\n",
              "    }\n",
              "\n",
              "    [theme=dark] .colab-df-convert {\n",
              "      background-color: #3B4455;\n",
              "      fill: #D2E3FC;\n",
              "    }\n",
              "\n",
              "    [theme=dark] .colab-df-convert:hover {\n",
              "      background-color: #434B5C;\n",
              "      box-shadow: 0px 1px 3px 1px rgba(0, 0, 0, 0.15);\n",
              "      filter: drop-shadow(0px 1px 2px rgba(0, 0, 0, 0.3));\n",
              "      fill: #FFFFFF;\n",
              "    }\n",
              "  </style>\n",
              "\n",
              "      <script>\n",
              "        const buttonEl =\n",
              "          document.querySelector('#df-380ec4dc-fb62-46b2-b540-cccac7ec926b button.colab-df-convert');\n",
              "        buttonEl.style.display =\n",
              "          google.colab.kernel.accessAllowed ? 'block' : 'none';\n",
              "\n",
              "        async function convertToInteractive(key) {\n",
              "          const element = document.querySelector('#df-380ec4dc-fb62-46b2-b540-cccac7ec926b');\n",
              "          const dataTable =\n",
              "            await google.colab.kernel.invokeFunction('convertToInteractive',\n",
              "                                                     [key], {});\n",
              "          if (!dataTable) return;\n",
              "\n",
              "          const docLinkHtml = 'Like what you see? Visit the ' +\n",
              "            '<a target=\"_blank\" href=https://colab.research.google.com/notebooks/data_table.ipynb>data table notebook</a>'\n",
              "            + ' to learn more about interactive tables.';\n",
              "          element.innerHTML = '';\n",
              "          dataTable['output_type'] = 'display_data';\n",
              "          await google.colab.output.renderOutput(dataTable, element);\n",
              "          const docLink = document.createElement('div');\n",
              "          docLink.innerHTML = docLinkHtml;\n",
              "          element.appendChild(docLink);\n",
              "        }\n",
              "      </script>\n",
              "    </div>\n",
              "  </div>\n",
              "  "
            ]
          },
          "metadata": {},
          "execution_count": 20
        }
      ]
    },
    {
      "cell_type": "markdown",
      "source": [
        "# Q3 (a)"
      ],
      "metadata": {
        "id": "OzThgY9p0eA6"
      }
    },
    {
      "cell_type": "code",
      "source": [
        "file_name = \"ex2.csv\"\n",
        "# uploaded = files.upload()\n",
        "# data2 = pd.read_csv(io.BytesIO(uploaded[file_name]))\n",
        "data2 = pd.read_csv(file_name)"
      ],
      "metadata": {
        "id": "H-TC-C_80iDQ",
        "colab": {
          "base_uri": "https://localhost:8080/",
          "height": 73
        },
        "outputId": "c2d8dd09-c6fc-4298-f899-84db6b49aeea"
      },
      "execution_count": 21,
      "outputs": [
        {
          "output_type": "display_data",
          "data": {
            "text/plain": [
              "<IPython.core.display.HTML object>"
            ],
            "text/html": [
              "\n",
              "     <input type=\"file\" id=\"files-831669e5-5b90-4e05-9152-9d49da340e52\" name=\"files[]\" multiple disabled\n",
              "        style=\"border:none\" />\n",
              "     <output id=\"result-831669e5-5b90-4e05-9152-9d49da340e52\">\n",
              "      Upload widget is only available when the cell has been executed in the\n",
              "      current browser session. Please rerun this cell to enable.\n",
              "      </output>\n",
              "      <script>// Copyright 2017 Google LLC\n",
              "//\n",
              "// Licensed under the Apache License, Version 2.0 (the \"License\");\n",
              "// you may not use this file except in compliance with the License.\n",
              "// You may obtain a copy of the License at\n",
              "//\n",
              "//      http://www.apache.org/licenses/LICENSE-2.0\n",
              "//\n",
              "// Unless required by applicable law or agreed to in writing, software\n",
              "// distributed under the License is distributed on an \"AS IS\" BASIS,\n",
              "// WITHOUT WARRANTIES OR CONDITIONS OF ANY KIND, either express or implied.\n",
              "// See the License for the specific language governing permissions and\n",
              "// limitations under the License.\n",
              "\n",
              "/**\n",
              " * @fileoverview Helpers for google.colab Python module.\n",
              " */\n",
              "(function(scope) {\n",
              "function span(text, styleAttributes = {}) {\n",
              "  const element = document.createElement('span');\n",
              "  element.textContent = text;\n",
              "  for (const key of Object.keys(styleAttributes)) {\n",
              "    element.style[key] = styleAttributes[key];\n",
              "  }\n",
              "  return element;\n",
              "}\n",
              "\n",
              "// Max number of bytes which will be uploaded at a time.\n",
              "const MAX_PAYLOAD_SIZE = 100 * 1024;\n",
              "\n",
              "function _uploadFiles(inputId, outputId) {\n",
              "  const steps = uploadFilesStep(inputId, outputId);\n",
              "  const outputElement = document.getElementById(outputId);\n",
              "  // Cache steps on the outputElement to make it available for the next call\n",
              "  // to uploadFilesContinue from Python.\n",
              "  outputElement.steps = steps;\n",
              "\n",
              "  return _uploadFilesContinue(outputId);\n",
              "}\n",
              "\n",
              "// This is roughly an async generator (not supported in the browser yet),\n",
              "// where there are multiple asynchronous steps and the Python side is going\n",
              "// to poll for completion of each step.\n",
              "// This uses a Promise to block the python side on completion of each step,\n",
              "// then passes the result of the previous step as the input to the next step.\n",
              "function _uploadFilesContinue(outputId) {\n",
              "  const outputElement = document.getElementById(outputId);\n",
              "  const steps = outputElement.steps;\n",
              "\n",
              "  const next = steps.next(outputElement.lastPromiseValue);\n",
              "  return Promise.resolve(next.value.promise).then((value) => {\n",
              "    // Cache the last promise value to make it available to the next\n",
              "    // step of the generator.\n",
              "    outputElement.lastPromiseValue = value;\n",
              "    return next.value.response;\n",
              "  });\n",
              "}\n",
              "\n",
              "/**\n",
              " * Generator function which is called between each async step of the upload\n",
              " * process.\n",
              " * @param {string} inputId Element ID of the input file picker element.\n",
              " * @param {string} outputId Element ID of the output display.\n",
              " * @return {!Iterable<!Object>} Iterable of next steps.\n",
              " */\n",
              "function* uploadFilesStep(inputId, outputId) {\n",
              "  const inputElement = document.getElementById(inputId);\n",
              "  inputElement.disabled = false;\n",
              "\n",
              "  const outputElement = document.getElementById(outputId);\n",
              "  outputElement.innerHTML = '';\n",
              "\n",
              "  const pickedPromise = new Promise((resolve) => {\n",
              "    inputElement.addEventListener('change', (e) => {\n",
              "      resolve(e.target.files);\n",
              "    });\n",
              "  });\n",
              "\n",
              "  const cancel = document.createElement('button');\n",
              "  inputElement.parentElement.appendChild(cancel);\n",
              "  cancel.textContent = 'Cancel upload';\n",
              "  const cancelPromise = new Promise((resolve) => {\n",
              "    cancel.onclick = () => {\n",
              "      resolve(null);\n",
              "    };\n",
              "  });\n",
              "\n",
              "  // Wait for the user to pick the files.\n",
              "  const files = yield {\n",
              "    promise: Promise.race([pickedPromise, cancelPromise]),\n",
              "    response: {\n",
              "      action: 'starting',\n",
              "    }\n",
              "  };\n",
              "\n",
              "  cancel.remove();\n",
              "\n",
              "  // Disable the input element since further picks are not allowed.\n",
              "  inputElement.disabled = true;\n",
              "\n",
              "  if (!files) {\n",
              "    return {\n",
              "      response: {\n",
              "        action: 'complete',\n",
              "      }\n",
              "    };\n",
              "  }\n",
              "\n",
              "  for (const file of files) {\n",
              "    const li = document.createElement('li');\n",
              "    li.append(span(file.name, {fontWeight: 'bold'}));\n",
              "    li.append(span(\n",
              "        `(${file.type || 'n/a'}) - ${file.size} bytes, ` +\n",
              "        `last modified: ${\n",
              "            file.lastModifiedDate ? file.lastModifiedDate.toLocaleDateString() :\n",
              "                                    'n/a'} - `));\n",
              "    const percent = span('0% done');\n",
              "    li.appendChild(percent);\n",
              "\n",
              "    outputElement.appendChild(li);\n",
              "\n",
              "    const fileDataPromise = new Promise((resolve) => {\n",
              "      const reader = new FileReader();\n",
              "      reader.onload = (e) => {\n",
              "        resolve(e.target.result);\n",
              "      };\n",
              "      reader.readAsArrayBuffer(file);\n",
              "    });\n",
              "    // Wait for the data to be ready.\n",
              "    let fileData = yield {\n",
              "      promise: fileDataPromise,\n",
              "      response: {\n",
              "        action: 'continue',\n",
              "      }\n",
              "    };\n",
              "\n",
              "    // Use a chunked sending to avoid message size limits. See b/62115660.\n",
              "    let position = 0;\n",
              "    do {\n",
              "      const length = Math.min(fileData.byteLength - position, MAX_PAYLOAD_SIZE);\n",
              "      const chunk = new Uint8Array(fileData, position, length);\n",
              "      position += length;\n",
              "\n",
              "      const base64 = btoa(String.fromCharCode.apply(null, chunk));\n",
              "      yield {\n",
              "        response: {\n",
              "          action: 'append',\n",
              "          file: file.name,\n",
              "          data: base64,\n",
              "        },\n",
              "      };\n",
              "\n",
              "      let percentDone = fileData.byteLength === 0 ?\n",
              "          100 :\n",
              "          Math.round((position / fileData.byteLength) * 100);\n",
              "      percent.textContent = `${percentDone}% done`;\n",
              "\n",
              "    } while (position < fileData.byteLength);\n",
              "  }\n",
              "\n",
              "  // All done.\n",
              "  yield {\n",
              "    response: {\n",
              "      action: 'complete',\n",
              "    }\n",
              "  };\n",
              "}\n",
              "\n",
              "scope.google = scope.google || {};\n",
              "scope.google.colab = scope.google.colab || {};\n",
              "scope.google.colab._files = {\n",
              "  _uploadFiles,\n",
              "  _uploadFilesContinue,\n",
              "};\n",
              "})(self);\n",
              "</script> "
            ]
          },
          "metadata": {}
        },
        {
          "output_type": "stream",
          "name": "stdout",
          "text": [
            "Saving ex2.csv to ex2.csv\n"
          ]
        }
      ]
    },
    {
      "cell_type": "code",
      "source": [
        "data2.columns"
      ],
      "metadata": {
        "colab": {
          "base_uri": "https://localhost:8080/"
        },
        "id": "IAgjQhKVGoeb",
        "outputId": "106efaed-8316-45ea-fdf6-40fdd93441d2"
      },
      "execution_count": 22,
      "outputs": [
        {
          "output_type": "execute_result",
          "data": {
            "text/plain": [
              "Index(['Unnamed: 0', 'incident_id', 'date', 'state', 'city_or_county',\n",
              "       'address', 'n_killed', 'n_injured', 'congressional_district',\n",
              "       'gun_stolen', 'gun_type', 'incident_characteristics', 'latitude',\n",
              "       'location_description', 'longitude', 'n_guns_involved', 'notes',\n",
              "       'participant_age', 'participant_age_group', 'participant_gender',\n",
              "       'participant_name', 'participant_relationship', 'participant_status',\n",
              "       'participant_type', 'state_house_district', 'state_senate_district'],\n",
              "      dtype='object')"
            ]
          },
          "metadata": {},
          "execution_count": 22
        }
      ]
    },
    {
      "cell_type": "markdown",
      "source": [
        "First, I will add the mean number of guns involved in incidents of a state, this might be good to predict the number of people killed."
      ],
      "metadata": {
        "id": "Nu6BO2oROCDN"
      }
    },
    {
      "cell_type": "code",
      "source": [
        "state_mean_guns_inv = data2.groupby(\"state\").mean()[\"n_guns_involved\"]\n",
        "data2[\"state_mean_guns_inv\"] = data2[\"state\"].apply(lambda state: state_mean_guns_inv[state])"
      ],
      "metadata": {
        "id": "jD0RA9_2-EX8"
      },
      "execution_count": 23,
      "outputs": []
    },
    {
      "cell_type": "markdown",
      "source": [
        "Next, I add the feature of total physic damage in the incident, the number of people killed and the number of people injured in a single incident.<br>\n",
        "I think it might help predict the number of guns involved, because maybe more the damage in an incident the more guns involved."
      ],
      "metadata": {
        "id": "RPL1IQ2fOh26"
      }
    },
    {
      "cell_type": "code",
      "source": [
        "data2[\"total_damage\"] = data2['n_killed'] + data2['n_injured']"
      ],
      "metadata": {
        "id": "GS3f8qEYIG9N"
      },
      "execution_count": 24,
      "outputs": []
    },
    {
      "cell_type": "markdown",
      "source": [
        "(b)"
      ],
      "metadata": {
        "id": "ZtXafU13-ZAS"
      }
    },
    {
      "cell_type": "code",
      "source": [
        "data2.drop([\"Unnamed: 0\", \"incident_id\"], axis=\"columns\", inplace=True)\n",
        "plt.figure(figsize=(16, 11))\n",
        "sns.heatmap(data2.corr())\n",
        "plt.show()"
      ],
      "metadata": {
        "colab": {
          "base_uri": "https://localhost:8080/",
          "height": 749
        },
        "id": "bcuKNkq_IHy2",
        "outputId": "c8f3f29b-af98-4a56-f766-3e3d324fdcd8"
      },
      "execution_count": 25,
      "outputs": [
        {
          "output_type": "display_data",
          "data": {
            "text/plain": [
              "<Figure size 1152x792 with 2 Axes>"
            ],
            "image/png": "[encoded data removed]"
          },
          "metadata": {}
        }
      ]
    },
    {
      "cell_type": "markdown",
      "source": [
        "I can see from the heatmap that there is a high correlation between `total_damage` and `n_injured` and `n_killed`, because `total_damage` is an interaction of them.\n",
        "\n",
        "Suprisingly, the feature `state_mean_guns_inv` is not very correlative with another feature,\n",
        "even with `n_injured` and `n_killed`."
      ],
      "metadata": {
        "id": "R7SCtzv1P4OG"
      }
    },
    {
      "cell_type": "markdown",
      "source": [
        "# Q4 (a)"
      ],
      "metadata": {
        "id": "nIUQ-87_mHlS"
      }
    },
    {
      "cell_type": "code",
      "source": [
        "file_name = \"covid_data.csv\"\n",
        "# uploaded = files.upload()\n",
        "# covid_data = pd.read_csv(io.BytesIO(uploaded[file_name]))\n",
        "covid_data = pd.read_csv(file_name)"
      ],
      "metadata": {
        "colab": {
          "base_uri": "https://localhost:8080/",
          "height": 73
        },
        "id": "hzfKi3NcmGon",
        "outputId": "d8a1fb65-3190-4dea-c1b0-a6a3f6b9d47a"
      },
      "execution_count": 26,
      "outputs": [
        {
          "output_type": "display_data",
          "data": {
            "text/plain": [
              "<IPython.core.display.HTML object>"
            ],
            "text/html": [
              "\n",
              "     <input type=\"file\" id=\"files-2db90184-a15f-4444-9e45-2139c1b702c5\" name=\"files[]\" multiple disabled\n",
              "        style=\"border:none\" />\n",
              "     <output id=\"result-2db90184-a15f-4444-9e45-2139c1b702c5\">\n",
              "      Upload widget is only available when the cell has been executed in the\n",
              "      current browser session. Please rerun this cell to enable.\n",
              "      </output>\n",
              "      <script>// Copyright 2017 Google LLC\n",
              "//\n",
              "// Licensed under the Apache License, Version 2.0 (the \"License\");\n",
              "// you may not use this file except in compliance with the License.\n",
              "// You may obtain a copy of the License at\n",
              "//\n",
              "//      http://www.apache.org/licenses/LICENSE-2.0\n",
              "//\n",
              "// Unless required by applicable law or agreed to in writing, software\n",
              "// distributed under the License is distributed on an \"AS IS\" BASIS,\n",
              "// WITHOUT WARRANTIES OR CONDITIONS OF ANY KIND, either express or implied.\n",
              "// See the License for the specific language governing permissions and\n",
              "// limitations under the License.\n",
              "\n",
              "/**\n",
              " * @fileoverview Helpers for google.colab Python module.\n",
              " */\n",
              "(function(scope) {\n",
              "function span(text, styleAttributes = {}) {\n",
              "  const element = document.createElement('span');\n",
              "  element.textContent = text;\n",
              "  for (const key of Object.keys(styleAttributes)) {\n",
              "    element.style[key] = styleAttributes[key];\n",
              "  }\n",
              "  return element;\n",
              "}\n",
              "\n",
              "// Max number of bytes which will be uploaded at a time.\n",
              "const MAX_PAYLOAD_SIZE = 100 * 1024;\n",
              "\n",
              "function _uploadFiles(inputId, outputId) {\n",
              "  const steps = uploadFilesStep(inputId, outputId);\n",
              "  const outputElement = document.getElementById(outputId);\n",
              "  // Cache steps on the outputElement to make it available for the next call\n",
              "  // to uploadFilesContinue from Python.\n",
              "  outputElement.steps = steps;\n",
              "\n",
              "  return _uploadFilesContinue(outputId);\n",
              "}\n",
              "\n",
              "// This is roughly an async generator (not supported in the browser yet),\n",
              "// where there are multiple asynchronous steps and the Python side is going\n",
              "// to poll for completion of each step.\n",
              "// This uses a Promise to block the python side on completion of each step,\n",
              "// then passes the result of the previous step as the input to the next step.\n",
              "function _uploadFilesContinue(outputId) {\n",
              "  const outputElement = document.getElementById(outputId);\n",
              "  const steps = outputElement.steps;\n",
              "\n",
              "  const next = steps.next(outputElement.lastPromiseValue);\n",
              "  return Promise.resolve(next.value.promise).then((value) => {\n",
              "    // Cache the last promise value to make it available to the next\n",
              "    // step of the generator.\n",
              "    outputElement.lastPromiseValue = value;\n",
              "    return next.value.response;\n",
              "  });\n",
              "}\n",
              "\n",
              "/**\n",
              " * Generator function which is called between each async step of the upload\n",
              " * process.\n",
              " * @param {string} inputId Element ID of the input file picker element.\n",
              " * @param {string} outputId Element ID of the output display.\n",
              " * @return {!Iterable<!Object>} Iterable of next steps.\n",
              " */\n",
              "function* uploadFilesStep(inputId, outputId) {\n",
              "  const inputElement = document.getElementById(inputId);\n",
              "  inputElement.disabled = false;\n",
              "\n",
              "  const outputElement = document.getElementById(outputId);\n",
              "  outputElement.innerHTML = '';\n",
              "\n",
              "  const pickedPromise = new Promise((resolve) => {\n",
              "    inputElement.addEventListener('change', (e) => {\n",
              "      resolve(e.target.files);\n",
              "    });\n",
              "  });\n",
              "\n",
              "  const cancel = document.createElement('button');\n",
              "  inputElement.parentElement.appendChild(cancel);\n",
              "  cancel.textContent = 'Cancel upload';\n",
              "  const cancelPromise = new Promise((resolve) => {\n",
              "    cancel.onclick = () => {\n",
              "      resolve(null);\n",
              "    };\n",
              "  });\n",
              "\n",
              "  // Wait for the user to pick the files.\n",
              "  const files = yield {\n",
              "    promise: Promise.race([pickedPromise, cancelPromise]),\n",
              "    response: {\n",
              "      action: 'starting',\n",
              "    }\n",
              "  };\n",
              "\n",
              "  cancel.remove();\n",
              "\n",
              "  // Disable the input element since further picks are not allowed.\n",
              "  inputElement.disabled = true;\n",
              "\n",
              "  if (!files) {\n",
              "    return {\n",
              "      response: {\n",
              "        action: 'complete',\n",
              "      }\n",
              "    };\n",
              "  }\n",
              "\n",
              "  for (const file of files) {\n",
              "    const li = document.createElement('li');\n",
              "    li.append(span(file.name, {fontWeight: 'bold'}));\n",
              "    li.append(span(\n",
              "        `(${file.type || 'n/a'}) - ${file.size} bytes, ` +\n",
              "        `last modified: ${\n",
              "            file.lastModifiedDate ? file.lastModifiedDate.toLocaleDateString() :\n",
              "                                    'n/a'} - `));\n",
              "    const percent = span('0% done');\n",
              "    li.appendChild(percent);\n",
              "\n",
              "    outputElement.appendChild(li);\n",
              "\n",
              "    const fileDataPromise = new Promise((resolve) => {\n",
              "      const reader = new FileReader();\n",
              "      reader.onload = (e) => {\n",
              "        resolve(e.target.result);\n",
              "      };\n",
              "      reader.readAsArrayBuffer(file);\n",
              "    });\n",
              "    // Wait for the data to be ready.\n",
              "    let fileData = yield {\n",
              "      promise: fileDataPromise,\n",
              "      response: {\n",
              "        action: 'continue',\n",
              "      }\n",
              "    };\n",
              "\n",
              "    // Use a chunked sending to avoid message size limits. See b/62115660.\n",
              "    let position = 0;\n",
              "    do {\n",
              "      const length = Math.min(fileData.byteLength - position, MAX_PAYLOAD_SIZE);\n",
              "      const chunk = new Uint8Array(fileData, position, length);\n",
              "      position += length;\n",
              "\n",
              "      const base64 = btoa(String.fromCharCode.apply(null, chunk));\n",
              "      yield {\n",
              "        response: {\n",
              "          action: 'append',\n",
              "          file: file.name,\n",
              "          data: base64,\n",
              "        },\n",
              "      };\n",
              "\n",
              "      let percentDone = fileData.byteLength === 0 ?\n",
              "          100 :\n",
              "          Math.round((position / fileData.byteLength) * 100);\n",
              "      percent.textContent = `${percentDone}% done`;\n",
              "\n",
              "    } while (position < fileData.byteLength);\n",
              "  }\n",
              "\n",
              "  // All done.\n",
              "  yield {\n",
              "    response: {\n",
              "      action: 'complete',\n",
              "    }\n",
              "  };\n",
              "}\n",
              "\n",
              "scope.google = scope.google || {};\n",
              "scope.google.colab = scope.google.colab || {};\n",
              "scope.google.colab._files = {\n",
              "  _uploadFiles,\n",
              "  _uploadFilesContinue,\n",
              "};\n",
              "})(self);\n",
              "</script> "
            ]
          },
          "metadata": {}
        },
        {
          "output_type": "stream",
          "name": "stdout",
          "text": [
            "Saving covid_data.csv to covid_data.csv\n"
          ]
        }
      ]
    },
    {
      "cell_type": "code",
      "source": [
        "covid_data.columns"
      ],
      "metadata": {
        "colab": {
          "base_uri": "https://localhost:8080/"
        },
        "id": "fZI-zf8Dv0T2",
        "outputId": "db6d3a21-fabe-4acc-8ebc-3e5d80b43552"
      },
      "execution_count": 27,
      "outputs": [
        {
          "output_type": "execute_result",
          "data": {
            "text/plain": [
              "Index(['day_num', 'date', 'detected'], dtype='object')"
            ]
          },
          "metadata": {},
          "execution_count": 27
        }
      ]
    },
    {
      "cell_type": "markdown",
      "source": [
        "Now I fit a linear regression model using the day feature to predict the\n",
        "amount of new detected cases."
      ],
      "metadata": {
        "id": "XsErri_CnAzo"
      }
    },
    {
      "cell_type": "code",
      "source": [
        "X, y= covid_data[[\"day_num\"]], covid_data[\"detected\"]\n",
        "LR = LinearRegression()\n",
        "LR.fit(X, y)"
      ],
      "metadata": {
        "colab": {
          "base_uri": "https://localhost:8080/"
        },
        "id": "E4i1nXIYnAcV",
        "outputId": "0ca8c6bc-93e7-4b90-8c42-65e7d67d3a54"
      },
      "execution_count": 28,
      "outputs": [
        {
          "output_type": "execute_result",
          "data": {
            "text/plain": [
              "LinearRegression()"
            ]
          },
          "metadata": {},
          "execution_count": 28
        }
      ]
    },
    {
      "cell_type": "markdown",
      "source": [
        "The MSE:"
      ],
      "metadata": {
        "id": "VJ8TGzuznTxQ"
      }
    },
    {
      "cell_type": "code",
      "source": [
        "mean_squared_error(y, LR.predict(X))"
      ],
      "metadata": {
        "colab": {
          "base_uri": "https://localhost:8080/"
        },
        "id": "4nFukurvnW0X",
        "outputId": "cae2ce9a-42c6-4cca-f2d5-dbb1a4000232"
      },
      "execution_count": 29,
      "outputs": [
        {
          "output_type": "execute_result",
          "data": {
            "text/plain": [
              "1669656.317944683"
            ]
          },
          "metadata": {},
          "execution_count": 29
        }
      ]
    },
    {
      "cell_type": "markdown",
      "source": [
        "(b)"
      ],
      "metadata": {
        "id": "OKfSK_-NniQr"
      }
    },
    {
      "cell_type": "markdown",
      "source": [
        "Plot the true and predict label function"
      ],
      "metadata": {
        "id": "P6BsHCPjsoqf"
      }
    },
    {
      "cell_type": "code",
      "source": [
        "plt.figure(figsize=(12, 6))\n",
        "plt.plot(y, label=\"True label\")\n",
        "plt.plot(LR.predict(X), label=\"Prediction label\")\n",
        "plt.title(\"COVID amount of cases as the day\", fontsize=20)\n",
        "plt.xlabel(\"day\", fontsize=15)\n",
        "plt.ylabel(\"cases\", fontsize=15)\n",
        "plt.legend()\n",
        "plt.show()"
      ],
      "metadata": {
        "colab": {
          "base_uri": "https://localhost:8080/",
          "height": 414
        },
        "id": "KbDgtm1gnkEw",
        "outputId": "e9ddc074-eb96-4acf-d212-0368ae9c6f6b"
      },
      "execution_count": 31,
      "outputs": [
        {
          "output_type": "display_data",
          "data": {
            "text/plain": [
              "<Figure size 864x432 with 1 Axes>"
            ],
            "image/png": "[encoded data removed]"
          },
          "metadata": {}
        }
      ]
    },
    {
      "cell_type": "markdown",
      "source": [
        "As shown in the plot, the connection  between the day feature to the amount of cases is not very linear.<br>\n",
        "It starts as a horizontal line and then it first increases slowly and then the growth becomes rapid and we are getting high values, looks like the exp graph. Maybe it says that more we count the days then the amount of cases is getting high exponentially, but it is unsure that this is the real case.<br>\n",
        "The connection may be exponential or squared.<br>\n"
      ],
      "metadata": {
        "id": "guVL3iW2tGPu"
      }
    },
    {
      "cell_type": "markdown",
      "source": [
        "(c)"
      ],
      "metadata": {
        "id": "tHdqEFCLusKh"
      }
    },
    {
      "cell_type": "markdown",
      "source": [
        "* Square Root Transformation"
      ],
      "metadata": {
        "id": "Cipd7wDIx0Hu"
      }
    },
    {
      "cell_type": "code",
      "source": [
        "X1, y1 = covid_data[[\"day_num\"]], np.sqrt(covid_data[\"detected\"])\n",
        "LR1= LinearRegression()\n",
        "LR1.fit(X1, y1)"
      ],
      "metadata": {
        "colab": {
          "base_uri": "https://localhost:8080/"
        },
        "id": "O5lXfp4Px3Gt",
        "outputId": "586b3c24-34e5-4e31-ae8d-ed5dcad4d253"
      },
      "execution_count": 32,
      "outputs": [
        {
          "output_type": "execute_result",
          "data": {
            "text/plain": [
              "LinearRegression()"
            ]
          },
          "metadata": {},
          "execution_count": 32
        }
      ]
    },
    {
      "cell_type": "code",
      "source": [
        "plt.figure(figsize=(12, 6))\n",
        "plt.plot(y1, label=\"True label\")\n",
        "plt.plot(LR1.predict(X1), label=\"Prediction label - after log transformation\")\n",
        "plt.legend()\n",
        "plt.title(\"Square root COVID amount of cases as the day\", fontsize=20)\n",
        "plt.xlabel(\"Day\", fontsize=15)\n",
        "plt.ylabel(\"Cases\", fontsize=15)\n",
        "plt.show()"
      ],
      "metadata": {
        "colab": {
          "base_uri": "https://localhost:8080/",
          "height": 414
        },
        "id": "ftCYfVK8yEny",
        "outputId": "ae20f1d8-5e98-416d-a299-a9b1ed1c3b93"
      },
      "execution_count": 33,
      "outputs": [
        {
          "output_type": "display_data",
          "data": {
            "text/plain": [
              "<Figure size 864x432 with 1 Axes>"
            ],
            "image/png": "[encoded data removed]"
          },
          "metadata": {}
        }
      ]
    },
    {
      "cell_type": "code",
      "source": [
        "mean_squared_error(y1, LR1.predict(X1))"
      ],
      "metadata": {
        "colab": {
          "base_uri": "https://localhost:8080/"
        },
        "id": "qp49CWrpyUyI",
        "outputId": "42753d9a-1cb6-459d-cdd0-49da2ed35bd5"
      },
      "execution_count": null,
      "outputs": [
        {
          "output_type": "execute_result",
          "data": {
            "text/plain": [
              "98.83289823694948"
            ]
          },
          "metadata": {},
          "execution_count": 76
        }
      ]
    },
    {
      "cell_type": "markdown",
      "source": [
        "As we can see by the MSE recorded in this case, indeed the square root transformation give us better result."
      ],
      "metadata": {
        "id": "9vSC9NTfdRfe"
      }
    },
    {
      "cell_type": "markdown",
      "source": [
        "* Log Transformation"
      ],
      "metadata": {
        "id": "8oLWSxKeuvmv"
      }
    },
    {
      "cell_type": "code",
      "source": [
        "X2, y2 = covid_data[[\"day_num\"]], np.log(covid_data[\"detected\"])\n",
        "LR2= LinearRegression()\n",
        "LR2.fit(X2, y2)"
      ],
      "metadata": {
        "colab": {
          "base_uri": "https://localhost:8080/"
        },
        "id": "9vF2JqXtuZIO",
        "outputId": "31b9eedd-8cf5-4818-df4d-495ba470ab43"
      },
      "execution_count": 34,
      "outputs": [
        {
          "output_type": "execute_result",
          "data": {
            "text/plain": [
              "LinearRegression()"
            ]
          },
          "metadata": {},
          "execution_count": 34
        }
      ]
    },
    {
      "cell_type": "code",
      "source": [
        "plt.figure(figsize=(12, 6))\n",
        "plt.plot(y2, label=\"True label\")\n",
        "plt.plot(LR2.predict(X2), label=\"Prediction label - after log transformation\")\n",
        "plt.legend()\n",
        "plt.title(\"COVID detected cases as day\", fontsize=20)\n",
        "plt.xlabel(\"day\", fontsize=15)\n",
        "plt.ylabel(\"cases\", fontsize=15)\n",
        "plt.show()"
      ],
      "metadata": {
        "colab": {
          "base_uri": "https://localhost:8080/",
          "height": 414
        },
        "id": "nR3qdGymvCnG",
        "outputId": "55b10fd6-9f2d-4a47-dd24-de1b083b9900"
      },
      "execution_count": 35,
      "outputs": [
        {
          "output_type": "display_data",
          "data": {
            "text/plain": [
              "<Figure size 864x432 with 1 Axes>"
            ],
            "image/png": "[encoded data removed]"
          },
          "metadata": {}
        }
      ]
    },
    {
      "cell_type": "markdown",
      "source": [
        "I can clearly see that the connection became more linear."
      ],
      "metadata": {
        "id": "s0gjuww4vR39"
      }
    },
    {
      "cell_type": "code",
      "source": [
        "mean_squared_error(y2, LR2.predict(X2))"
      ],
      "metadata": {
        "colab": {
          "base_uri": "https://localhost:8080/"
        },
        "id": "KrtqPzOixS8y",
        "outputId": "2e9bceec-4864-4b26-9920-5d947f20c338"
      },
      "execution_count": 37,
      "outputs": [
        {
          "output_type": "execute_result",
          "data": {
            "text/plain": [
              "0.08197842668518304"
            ]
          },
          "metadata": {},
          "execution_count": 37
        }
      ]
    },
    {
      "cell_type": "markdown",
      "source": [
        "**conclusion:** The log transformation gives me the best results!"
      ],
      "metadata": {
        "id": "9a6QpJetzES_"
      }
    }
  ]
}